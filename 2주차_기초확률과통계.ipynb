{
  "nbformat": 4,
  "nbformat_minor": 0,
  "metadata": {
    "colab": {
      "provenance": []
    },
    "kernelspec": {
      "name": "python3",
      "display_name": "Python 3"
    },
    "language_info": {
      "name": "python"
    }
  },
  "cells": [
    {
      "cell_type": "code",
      "execution_count": 6,
      "metadata": {
        "colab": {
          "base_uri": "https://localhost:8080/"
        },
        "id": "olgZEUQ2AgQV",
        "outputId": "fc51401c-0e93-4933-b5e2-352d1cb9bf4c"
      },
      "outputs": [
        {
          "output_type": "stream",
          "name": "stdout",
          "text": [
            "[6, 5, 4, 3, 2]\n"
          ]
        }
      ],
      "source": [
        "a= [2,3,4,5,6]\n",
        "b= []\n",
        "for _ in range(len(a)):\n",
        "  b.append(a.pop())\n",
        "\n",
        "print(b)"
      ]
    },
    {
      "cell_type": "code",
      "source": [],
      "metadata": {
        "id": "LB9vN87qBB9Q"
      },
      "execution_count": null,
      "outputs": []
    }
  ]
}